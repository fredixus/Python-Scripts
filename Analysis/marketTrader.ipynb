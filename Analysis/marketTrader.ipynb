{
 "cells": [
  {
   "cell_type": "code",
   "execution_count": 1,
   "source": [
    "import pandas as pd\n",
    "import numpy as np"
   ],
   "outputs": [],
   "metadata": {}
  },
  {
   "cell_type": "code",
   "execution_count": 2,
   "source": [
    "x1 = ['AAA', 'BUY', 10, 10]\n",
    "x2 = ['BBB', 'BUY', 12, 12]\n",
    "x3 = ['CCC', 'BUY', 14, 14]\n",
    "x33 = ['CCC','Cancel']\n",
    "x4 = ['DDD', 'SELL', 15, 10]\n",
    "x5 = ['EEE', 'SELL', 12, 2]\n",
    "\n",
    "x6 = ['FFF', 'SELL', 12, 4]\n",
    "x7 = ['GGG', 'SELL', 12, 10]\n",
    "x77 = ['BBB','Cancel']\n",
    "x8 = ['HHH', 'BUY', 12, 14]\n",
    "x9 = ['KKK', 'SELL', 10, 20]\n",
    "x99 = ['DDD','Cancel']\n",
    "x10 = ['DDD','Cancel']"
   ],
   "outputs": [],
   "metadata": {}
  },
  {
   "cell_type": "code",
   "execution_count": 3,
   "source": [
    "list2 = [x5, x6, x7, x8, x9]"
   ],
   "outputs": [],
   "metadata": {}
  },
  {
   "cell_type": "code",
   "execution_count": 4,
   "source": [
    "listOfOrders = [x1, x2, x4]"
   ],
   "outputs": [],
   "metadata": {}
  },
  {
   "cell_type": "code",
   "execution_count": 5,
   "source": [
    "def printInfoMatched(name, quantity, price, quantityLogic):\n",
    "    if (quantityLogic):\n",
    "            text = 'Fully' \n",
    "    else:\n",
    "        text = 'Partially'\n",
    "    print(\"{} matched with {} ({} @ {})\".format(text, name, quantity, price))\n",
    "        "
   ],
   "outputs": [],
   "metadata": {}
  },
  {
   "cell_type": "code",
   "execution_count": 314,
   "source": [
    "def sell(df, name='EEE', side='SELL',price=12, quantity=12):\n",
    "    try:\n",
    "        index = df[(df.Side != side) & (df.Price >= price) & (df.Quantity >= quantity)].head(1).index[0]\n",
    "        printInfoMatched(df.loc[index,'ID'], quantity, price, df.loc[index,'Quantity'] >= quantity)\n",
    "        df.loc[index,'Quantity'] = df.loc[index,'Quantity'] - quantity\n",
    "        if(quantity > df.loc[index,'Quantity']):\n",
    "            sell(df, name, side, price, df.loc[index,'Quantity'] - quantity)\n",
    "        else:\n",
    "            index = df[(df.ID == name)].index[0]\n",
    "            df = df.drop([index], inplace = True)\n",
    "            \n",
    "    except IndexError:\n",
    "        elements = df[(df.Side != side) & (df.Price >= price) & (df.Quantity < quantity) & (df.Quantity!=0)].sort_values(by=['Price'],ascending=False).index\n",
    "        for index in elements:  \n",
    "            printInfoMatched(df.loc[index,'ID'], df.loc[index,'Quantity'], df.loc[index,'Price'], df.loc[index,'Quantity'] == quantity)\n",
    "            if (df.loc[index,'Quantity'] - quantity <= 0):\n",
    "                index2 = df[(df.ID == name)].index[0]\n",
    "                df.loc[index2,'Quantity'] = quantity - df.loc[index,'Quantity']\n",
    "                df.loc[index,'Quantity'] = 0\n",
    "                quantity = df.loc[index2,'Quantity']"
   ],
   "outputs": [],
   "metadata": {}
  },
  {
   "cell_type": "code",
   "execution_count": 315,
   "source": [
    "def buy(df, name='EEE', side='BUY',price=15, quantity=5):\n",
    "    \n",
    "    try:\n",
    "        index = df[(df.Side != side) & (df.Price <= price) & (df.Quantity >= quantity)].head(1).index[0]\n",
    "        printInfoMatched(df.loc[index,'ID'], df.loc[index,'Quantity'], df.loc[index,'Price'], df.loc[index,'Quantity'] == quantity)\n",
    "        df.loc[index,'Quantity'] = df.loc[index,'Quantity'] - quantity\n",
    "        if(quantity > df.loc[index,'Quantity']):\n",
    "            buy(df, name, side, price, df.loc[index,'Quantity'] - quantity)\n",
    "        else:\n",
    "            index = df[(df.ID == name)].index[0]\n",
    "            df = df.drop([index], inplace = True)\n",
    "            \n",
    "    except IndexError:\n",
    "        #print(\"aaa\")\n",
    "        elements = df[(df.Side != side) & (df.Price <= price) & (df.Quantity < quantity) & (df.Quantity!=0)].sort_values(by=['Price'],ascending=False).index\n",
    "        for index in elements:  \n",
    "            printInfoMatched(df.loc[index,'ID'], df.loc[index,'Quantity'], df.loc[index,'Price'], df.loc[index,'Quantity'] <= quantity)\n",
    "            if (df.loc[index,'Quantity'] - quantity <= 0):\n",
    "                index2 = df[(df.ID == name)].index[0]\n",
    "                df.loc[index2,'Quantity'] = quantity - df.loc[index,'Quantity']\n",
    "                df.loc[index,'Quantity'] = 0\n",
    "                quantity = df.loc[index2,'Quantity']\n",
    "    "
   ],
   "outputs": [],
   "metadata": {}
  },
  {
   "cell_type": "code",
   "execution_count": 286,
   "source": [
    "def cancel(df, name='EEE'):\n",
    "    try:\n",
    "        index = df[(df.ID == name)].index[0]\n",
    "        if(df.loc[index , 'Quantity'] == 0):\n",
    "            print(\"Failed - already fully filled\")\n",
    "        else:\n",
    "            df.drop([index], inplace = True)\n",
    "            print(\"OK\")\n",
    "    except:\n",
    "        print(\"Failed – no such active order\")\n",
    "    "
   ],
   "outputs": [],
   "metadata": {}
  },
  {
   "cell_type": "code",
   "execution_count": 229,
   "source": [
    "def addNew(df, name='EEE', side='SELL',price=12, quantity=2):\n",
    "    #try:\n",
    "    df = df.append({\"ID\":name,\"Side\":side,\"Price\":price,\"Quantity\":quantity}, ignore_index=True)\n",
    "    return df\n",
    "    #except:\n",
    "    #    return pd.DataFrame({\"ID\":name,\"Side\":side,\"Price\":price,\"Quantity\":quantity})"
   ],
   "outputs": [],
   "metadata": {}
  },
  {
   "cell_type": "code",
   "execution_count": 230,
   "source": [
    "def newOrder(dfOrginal, name, side, price, quantity):\n",
    "    dfOrginal = addNew(dfOrginal, name, side, price, quantity)\n",
    "    #print(dfOrginal)\n",
    "    try:\n",
    "        if(side=='SELL'):\n",
    "            sell(dfOrginal, name, side, price, quantity)\n",
    "        else:\n",
    "            buy(dfOrginal, name, side, price, quantity)\n",
    "    except:\n",
    "        print(\"OK\")\n",
    "    #print(dfOrginal)\n",
    "    return dfOrginal\n",
    "    #print(\"Finish\")"
   ],
   "outputs": [],
   "metadata": {}
  },
  {
   "cell_type": "code",
   "execution_count": 263,
   "source": [
    "df2 = pd.DataFrame(listOfOrders, columns = ['ID', 'Side', 'Price', 'Quantity'])"
   ],
   "outputs": [],
   "metadata": {}
  },
  {
   "cell_type": "code",
   "execution_count": 264,
   "source": [
    "df2"
   ],
   "outputs": [
    {
     "output_type": "execute_result",
     "data": {
      "text/plain": [
       "    ID  Side  Price  Quantity\n",
       "0  AAA   BUY     10        10\n",
       "1  BBB   BUY     12        12\n",
       "2  DDD  SELL     15        10"
      ],
      "text/html": [
       "<div>\n",
       "<style scoped>\n",
       "    .dataframe tbody tr th:only-of-type {\n",
       "        vertical-align: middle;\n",
       "    }\n",
       "\n",
       "    .dataframe tbody tr th {\n",
       "        vertical-align: top;\n",
       "    }\n",
       "\n",
       "    .dataframe thead th {\n",
       "        text-align: right;\n",
       "    }\n",
       "</style>\n",
       "<table border=\"1\" class=\"dataframe\">\n",
       "  <thead>\n",
       "    <tr style=\"text-align: right;\">\n",
       "      <th></th>\n",
       "      <th>ID</th>\n",
       "      <th>Side</th>\n",
       "      <th>Price</th>\n",
       "      <th>Quantity</th>\n",
       "    </tr>\n",
       "  </thead>\n",
       "  <tbody>\n",
       "    <tr>\n",
       "      <th>0</th>\n",
       "      <td>AAA</td>\n",
       "      <td>BUY</td>\n",
       "      <td>10</td>\n",
       "      <td>10</td>\n",
       "    </tr>\n",
       "    <tr>\n",
       "      <th>1</th>\n",
       "      <td>BBB</td>\n",
       "      <td>BUY</td>\n",
       "      <td>12</td>\n",
       "      <td>12</td>\n",
       "    </tr>\n",
       "    <tr>\n",
       "      <th>2</th>\n",
       "      <td>DDD</td>\n",
       "      <td>SELL</td>\n",
       "      <td>15</td>\n",
       "      <td>10</td>\n",
       "    </tr>\n",
       "  </tbody>\n",
       "</table>\n",
       "</div>"
      ]
     },
     "metadata": {},
     "execution_count": 264
    }
   ],
   "metadata": {}
  },
  {
   "cell_type": "code",
   "execution_count": 316,
   "source": [
    "%%time\n",
    "df2 = pd.DataFrame(listOfOrders, columns = ['ID', 'Side', 'Price', 'Quantity'])\n",
    "for i in list2:\n",
    "    print('{} {} {} @ {}'.format(i[0], i[1], i[3], i[2]))\n",
    "    df2 = newOrder(df2, i[0], i[1], i[2], i[3])\n",
    "    print(df2)\n",
    "    "
   ],
   "outputs": [
    {
     "output_type": "stream",
     "name": "stdout",
     "text": [
      "EEE SELL 2 @ 12\n",
      "Fully matched with BBB (2 @ 12)\n",
      "    ID  Side  Price  Quantity\n",
      "0  AAA   BUY     10        10\n",
      "1  BBB   BUY     12        10\n",
      "2  DDD  SELL     15        10\n",
      "FFF SELL 4 @ 12\n",
      "Fully matched with BBB (4 @ 12)\n",
      "    ID  Side  Price  Quantity\n",
      "0  AAA   BUY     10        10\n",
      "1  BBB   BUY     12         6\n",
      "2  DDD  SELL     15        10\n",
      "GGG SELL 10 @ 12\n",
      "Partially matched with BBB (6 @ 12)\n",
      "    ID  Side  Price  Quantity\n",
      "0  AAA   BUY     10        10\n",
      "1  BBB   BUY     12         0\n",
      "2  DDD  SELL     15        10\n",
      "3  GGG  SELL     12         4\n",
      "HHH BUY 14 @ 12\n",
      "Fully matched with GGG (4 @ 12)\n",
      "    ID  Side  Price  Quantity\n",
      "0  AAA   BUY     10        10\n",
      "1  BBB   BUY     12         0\n",
      "2  DDD  SELL     15        10\n",
      "3  GGG  SELL     12         0\n",
      "4  HHH   BUY     12        10\n",
      "KKK SELL 20 @ 10\n",
      "Partially matched with HHH (10 @ 12)\n",
      "Fully matched with AAA (10 @ 10)\n",
      "    ID  Side  Price  Quantity\n",
      "0  AAA   BUY     10         0\n",
      "1  BBB   BUY     12         0\n",
      "2  DDD  SELL     15        10\n",
      "3  GGG  SELL     12         0\n",
      "4  HHH   BUY     12         0\n",
      "5  KKK  SELL     10         0\n",
      "Wall time: 63.1 ms\n"
     ]
    }
   ],
   "metadata": {}
  },
  {
   "cell_type": "code",
   "execution_count": 284,
   "source": [
    "df2"
   ],
   "outputs": [
    {
     "output_type": "execute_result",
     "data": {
      "text/plain": [
       "    ID  Side  Price  Quantity\n",
       "0  AAA   BUY     10         0\n",
       "1  BBB   BUY     12         0\n",
       "2  DDD  SELL     15         0\n",
       "3  GGG  SELL     12         0\n",
       "4  HHH   BUY     12         0\n",
       "5  KKK  SELL     10        10"
      ],
      "text/html": [
       "<div>\n",
       "<style scoped>\n",
       "    .dataframe tbody tr th:only-of-type {\n",
       "        vertical-align: middle;\n",
       "    }\n",
       "\n",
       "    .dataframe tbody tr th {\n",
       "        vertical-align: top;\n",
       "    }\n",
       "\n",
       "    .dataframe thead th {\n",
       "        text-align: right;\n",
       "    }\n",
       "</style>\n",
       "<table border=\"1\" class=\"dataframe\">\n",
       "  <thead>\n",
       "    <tr style=\"text-align: right;\">\n",
       "      <th></th>\n",
       "      <th>ID</th>\n",
       "      <th>Side</th>\n",
       "      <th>Price</th>\n",
       "      <th>Quantity</th>\n",
       "    </tr>\n",
       "  </thead>\n",
       "  <tbody>\n",
       "    <tr>\n",
       "      <th>0</th>\n",
       "      <td>AAA</td>\n",
       "      <td>BUY</td>\n",
       "      <td>10</td>\n",
       "      <td>0</td>\n",
       "    </tr>\n",
       "    <tr>\n",
       "      <th>1</th>\n",
       "      <td>BBB</td>\n",
       "      <td>BUY</td>\n",
       "      <td>12</td>\n",
       "      <td>0</td>\n",
       "    </tr>\n",
       "    <tr>\n",
       "      <th>2</th>\n",
       "      <td>DDD</td>\n",
       "      <td>SELL</td>\n",
       "      <td>15</td>\n",
       "      <td>0</td>\n",
       "    </tr>\n",
       "    <tr>\n",
       "      <th>3</th>\n",
       "      <td>GGG</td>\n",
       "      <td>SELL</td>\n",
       "      <td>12</td>\n",
       "      <td>0</td>\n",
       "    </tr>\n",
       "    <tr>\n",
       "      <th>4</th>\n",
       "      <td>HHH</td>\n",
       "      <td>BUY</td>\n",
       "      <td>12</td>\n",
       "      <td>0</td>\n",
       "    </tr>\n",
       "    <tr>\n",
       "      <th>5</th>\n",
       "      <td>KKK</td>\n",
       "      <td>SELL</td>\n",
       "      <td>10</td>\n",
       "      <td>10</td>\n",
       "    </tr>\n",
       "  </tbody>\n",
       "</table>\n",
       "</div>"
      ]
     },
     "metadata": {},
     "execution_count": 284
    }
   ],
   "metadata": {}
  },
  {
   "cell_type": "code",
   "execution_count": 157,
   "source": [
    "df2 = newOrder(df2, x1[0], x1[1], x1[2], x1[3])"
   ],
   "outputs": [
    {
     "output_type": "stream",
     "name": "stdout",
     "text": [
      "OK\n"
     ]
    }
   ],
   "metadata": {}
  },
  {
   "cell_type": "code",
   "execution_count": 158,
   "source": [
    "df2\n",
    "#.drop([0])"
   ],
   "outputs": [
    {
     "output_type": "execute_result",
     "data": {
      "text/plain": [
       "    ID Side  Price  Quantity\n",
       "0    0    0      0         0\n",
       "1  BBB  BUY     12        12\n",
       "2  AAA  BUY     10        10"
      ],
      "text/html": [
       "<div>\n",
       "<style scoped>\n",
       "    .dataframe tbody tr th:only-of-type {\n",
       "        vertical-align: middle;\n",
       "    }\n",
       "\n",
       "    .dataframe tbody tr th {\n",
       "        vertical-align: top;\n",
       "    }\n",
       "\n",
       "    .dataframe thead th {\n",
       "        text-align: right;\n",
       "    }\n",
       "</style>\n",
       "<table border=\"1\" class=\"dataframe\">\n",
       "  <thead>\n",
       "    <tr style=\"text-align: right;\">\n",
       "      <th></th>\n",
       "      <th>ID</th>\n",
       "      <th>Side</th>\n",
       "      <th>Price</th>\n",
       "      <th>Quantity</th>\n",
       "    </tr>\n",
       "  </thead>\n",
       "  <tbody>\n",
       "    <tr>\n",
       "      <th>0</th>\n",
       "      <td>0</td>\n",
       "      <td>0</td>\n",
       "      <td>0</td>\n",
       "      <td>0</td>\n",
       "    </tr>\n",
       "    <tr>\n",
       "      <th>1</th>\n",
       "      <td>BBB</td>\n",
       "      <td>BUY</td>\n",
       "      <td>12</td>\n",
       "      <td>12</td>\n",
       "    </tr>\n",
       "    <tr>\n",
       "      <th>2</th>\n",
       "      <td>AAA</td>\n",
       "      <td>BUY</td>\n",
       "      <td>10</td>\n",
       "      <td>10</td>\n",
       "    </tr>\n",
       "  </tbody>\n",
       "</table>\n",
       "</div>"
      ]
     },
     "metadata": {},
     "execution_count": 158
    }
   ],
   "metadata": {}
  },
  {
   "cell_type": "code",
   "execution_count": 152,
   "source": [
    "df2 = pd.DataFrame([[0 , 0 , 0 , 0]], columns = ['ID', 'Side', 'Price', 'Quantity'])"
   ],
   "outputs": [],
   "metadata": {}
  },
  {
   "cell_type": "code",
   "execution_count": 156,
   "source": [
    "df2 = newOrder(df2, x2[0], x2[1], x2[2], x2[3])"
   ],
   "outputs": [
    {
     "output_type": "stream",
     "name": "stdout",
     "text": [
      "OK\n"
     ]
    }
   ],
   "metadata": {}
  },
  {
   "cell_type": "code",
   "execution_count": 127,
   "source": [
    "df2 = newOrder(df2, x3[0], x3[1], x3[2], x3[3])"
   ],
   "outputs": [
    {
     "output_type": "stream",
     "name": "stdout",
     "text": [
      "OK\n"
     ]
    }
   ],
   "metadata": {}
  },
  {
   "cell_type": "code",
   "execution_count": 133,
   "source": [
    "cancel(df2, \"CCC\")"
   ],
   "outputs": [
    {
     "output_type": "stream",
     "name": "stdout",
     "text": [
      "OK\n"
     ]
    }
   ],
   "metadata": {}
  },
  {
   "cell_type": "code",
   "execution_count": 135,
   "source": [
    "df2 = newOrder(df2, x4[0], x4[1], x4[2], x4[3])"
   ],
   "outputs": [
    {
     "output_type": "stream",
     "name": "stdout",
     "text": [
      "OK\n"
     ]
    }
   ],
   "metadata": {}
  },
  {
   "cell_type": "code",
   "execution_count": 137,
   "source": [
    "df2 = newOrder(df2, x5[0], x5[1], x5[2], x5[3])"
   ],
   "outputs": [
    {
     "output_type": "stream",
     "name": "stdout",
     "text": [
      "Partially matched with BBB (12 @ 12)\n"
     ]
    }
   ],
   "metadata": {}
  },
  {
   "cell_type": "code",
   "execution_count": 143,
   "source": [
    "df2 = newOrder(df2, x6[0], x6[1], x6[2], x6[3])"
   ],
   "outputs": [
    {
     "output_type": "stream",
     "name": "stdout",
     "text": [
      "Partially matched with BBB (4 @ 12)\n"
     ]
    }
   ],
   "metadata": {}
  },
  {
   "cell_type": "code",
   "execution_count": 145,
   "source": [
    "df2 = newOrder(df2, x7[0], x7[1], x7[2], x7[3])"
   ],
   "outputs": [
    {
     "output_type": "stream",
     "name": "stdout",
     "text": [
      "Partially matched with BBB (6 @ 12)\n"
     ]
    }
   ],
   "metadata": {}
  },
  {
   "cell_type": "code",
   "execution_count": 146,
   "source": [
    "cancel(df2, \"BBB\")"
   ],
   "outputs": [
    {
     "output_type": "stream",
     "name": "stdout",
     "text": [
      "Failed - already fully filled\n"
     ]
    }
   ],
   "metadata": {}
  },
  {
   "cell_type": "code",
   "execution_count": 148,
   "source": [
    "df2 = newOrder(df2, x8[0], x8[1], x8[2], x8[3])"
   ],
   "outputs": [
    {
     "output_type": "stream",
     "name": "stdout",
     "text": [
      "Partially matched with GGG (4 @ 12)\n"
     ]
    }
   ],
   "metadata": {}
  },
  {
   "cell_type": "code",
   "execution_count": 150,
   "source": [
    "df2 = newOrder(df2, x9[0], x9[1], x9[2], x9[3])"
   ],
   "outputs": [
    {
     "output_type": "stream",
     "name": "stdout",
     "text": [
      "Partially matched with AAA (10 @ 10)\n"
     ]
    }
   ],
   "metadata": {}
  },
  {
   "cell_type": "code",
   "execution_count": 279,
   "source": [
    "df2[(df2.Side != 'SELL') & (df2.Price >= 0) & (df2.Quantity > 0)].sort_values(by=['Price'],ascending=False)"
   ],
   "outputs": [
    {
     "output_type": "execute_result",
     "data": {
      "text/plain": [
       "    ID Side  Price  Quantity\n",
       "1  BBB  BUY     12        12\n",
       "0  AAA  BUY     10        10"
      ],
      "text/html": [
       "<div>\n",
       "<style scoped>\n",
       "    .dataframe tbody tr th:only-of-type {\n",
       "        vertical-align: middle;\n",
       "    }\n",
       "\n",
       "    .dataframe tbody tr th {\n",
       "        vertical-align: top;\n",
       "    }\n",
       "\n",
       "    .dataframe thead th {\n",
       "        text-align: right;\n",
       "    }\n",
       "</style>\n",
       "<table border=\"1\" class=\"dataframe\">\n",
       "  <thead>\n",
       "    <tr style=\"text-align: right;\">\n",
       "      <th></th>\n",
       "      <th>ID</th>\n",
       "      <th>Side</th>\n",
       "      <th>Price</th>\n",
       "      <th>Quantity</th>\n",
       "    </tr>\n",
       "  </thead>\n",
       "  <tbody>\n",
       "    <tr>\n",
       "      <th>1</th>\n",
       "      <td>BBB</td>\n",
       "      <td>BUY</td>\n",
       "      <td>12</td>\n",
       "      <td>12</td>\n",
       "    </tr>\n",
       "    <tr>\n",
       "      <th>0</th>\n",
       "      <td>AAA</td>\n",
       "      <td>BUY</td>\n",
       "      <td>10</td>\n",
       "      <td>10</td>\n",
       "    </tr>\n",
       "  </tbody>\n",
       "</table>\n",
       "</div>"
      ]
     },
     "metadata": {},
     "execution_count": 279
    }
   ],
   "metadata": {}
  },
  {
   "cell_type": "code",
   "execution_count": 277,
   "source": [
    "df2"
   ],
   "outputs": [
    {
     "output_type": "execute_result",
     "data": {
      "text/plain": [
       "    ID  Side  Price  Quantity\n",
       "0  AAA   BUY     10        10\n",
       "1  BBB   BUY     12        12\n",
       "2  DDD  SELL     15        10"
      ],
      "text/html": [
       "<div>\n",
       "<style scoped>\n",
       "    .dataframe tbody tr th:only-of-type {\n",
       "        vertical-align: middle;\n",
       "    }\n",
       "\n",
       "    .dataframe tbody tr th {\n",
       "        vertical-align: top;\n",
       "    }\n",
       "\n",
       "    .dataframe thead th {\n",
       "        text-align: right;\n",
       "    }\n",
       "</style>\n",
       "<table border=\"1\" class=\"dataframe\">\n",
       "  <thead>\n",
       "    <tr style=\"text-align: right;\">\n",
       "      <th></th>\n",
       "      <th>ID</th>\n",
       "      <th>Side</th>\n",
       "      <th>Price</th>\n",
       "      <th>Quantity</th>\n",
       "    </tr>\n",
       "  </thead>\n",
       "  <tbody>\n",
       "    <tr>\n",
       "      <th>0</th>\n",
       "      <td>AAA</td>\n",
       "      <td>BUY</td>\n",
       "      <td>10</td>\n",
       "      <td>10</td>\n",
       "    </tr>\n",
       "    <tr>\n",
       "      <th>1</th>\n",
       "      <td>BBB</td>\n",
       "      <td>BUY</td>\n",
       "      <td>12</td>\n",
       "      <td>12</td>\n",
       "    </tr>\n",
       "    <tr>\n",
       "      <th>2</th>\n",
       "      <td>DDD</td>\n",
       "      <td>SELL</td>\n",
       "      <td>15</td>\n",
       "      <td>10</td>\n",
       "    </tr>\n",
       "  </tbody>\n",
       "</table>\n",
       "</div>"
      ]
     },
     "metadata": {},
     "execution_count": 277
    }
   ],
   "metadata": {}
  },
  {
   "cell_type": "code",
   "execution_count": null,
   "source": [],
   "outputs": [],
   "metadata": {}
  }
 ],
 "metadata": {
  "kernelspec": {
   "display_name": "Python 3",
   "language": "python",
   "name": "python3"
  },
  "language_info": {
   "codemirror_mode": {
    "name": "ipython",
    "version": 3
   },
   "file_extension": ".py",
   "mimetype": "text/x-python",
   "name": "python",
   "nbconvert_exporter": "python",
   "pygments_lexer": "ipython3",
   "version": "3.7.3"
  }
 },
 "nbformat": 4,
 "nbformat_minor": 2
}