{
 "cells": [
  {
   "cell_type": "markdown",
   "source": [
    "20.04.2020 Analiza"
   ],
   "metadata": {}
  },
  {
   "cell_type": "code",
   "execution_count": 1,
   "source": [
    "#System\n",
    "from datetime import datetime, timedelta\n",
    "\n",
    "#Data\n",
    "import pandas as pd\n",
    "import numpy as np\n",
    "import pyodbc\n",
    "\n",
    "#Visualization\n",
    "import matplotlib.pyplot as plt\n",
    "%matplotlib inline\n",
    "import plotly.express as px\n",
    "import plotly.graph_objs as go"
   ],
   "outputs": [],
   "metadata": {}
  },
  {
   "cell_type": "code",
   "execution_count": 174,
   "source": [
    "today = datetime.now()\n",
    "first = today.replace(day=1)\n",
    "lastMonth = first - timedelta(days=1)\n",
    "print(lastMonth.strftime(\"%Y-%m\"))"
   ],
   "outputs": [
    {
     "output_type": "stream",
     "name": "stdout",
     "text": [
      "2020-03\n"
     ]
    }
   ],
   "metadata": {}
  },
  {
   "cell_type": "code",
   "execution_count": 9,
   "source": [
    "dates = [x for x in range(1,13)]\n",
    "dates"
   ],
   "outputs": [
    {
     "output_type": "execute_result",
     "data": {
      "text/plain": [
       "[1, 2, 3, 4, 5, 6, 7, 8, 9, 10, 11, 12]"
      ]
     },
     "metadata": {},
     "execution_count": 9
    }
   ],
   "metadata": {}
  },
  {
   "cell_type": "code",
   "execution_count": 143,
   "source": [
    "df"
   ],
   "outputs": [
    {
     "output_type": "execute_result",
     "data": {
      "text/plain": [
       "    coil_num                date  DefectNumber\n",
       "0    C002177 2019-01-05 20:01:16           724\n",
       "1    C002178 2019-01-05 20:03:46           799\n",
       "2    C002179 2019-01-05 20:05:46          1748\n",
       "3    C002180 2019-01-05 20:08:16          1022\n",
       "4    C002181 2019-01-05 20:10:15          1903\n",
       "..       ...                 ...           ...\n",
       "894  D029709 2020-04-10 08:02:44          2442\n",
       "895  D029710 2020-04-10 08:08:25          1444\n",
       "896  D029711 2020-04-10 08:14:06          1190\n",
       "897  D029712 2020-04-10 08:19:36          1364\n",
       "898  D029713 2020-04-10 08:24:26          1605\n",
       "\n",
       "[899 rows x 3 columns]"
      ],
      "text/html": [
       "<div>\n",
       "<style scoped>\n",
       "    .dataframe tbody tr th:only-of-type {\n",
       "        vertical-align: middle;\n",
       "    }\n",
       "\n",
       "    .dataframe tbody tr th {\n",
       "        vertical-align: top;\n",
       "    }\n",
       "\n",
       "    .dataframe thead th {\n",
       "        text-align: right;\n",
       "    }\n",
       "</style>\n",
       "<table border=\"1\" class=\"dataframe\">\n",
       "  <thead>\n",
       "    <tr style=\"text-align: right;\">\n",
       "      <th></th>\n",
       "      <th>coil_num</th>\n",
       "      <th>date</th>\n",
       "      <th>DefectNumber</th>\n",
       "    </tr>\n",
       "  </thead>\n",
       "  <tbody>\n",
       "    <tr>\n",
       "      <th>0</th>\n",
       "      <td>C002177</td>\n",
       "      <td>2019-01-05 20:01:16</td>\n",
       "      <td>724</td>\n",
       "    </tr>\n",
       "    <tr>\n",
       "      <th>1</th>\n",
       "      <td>C002178</td>\n",
       "      <td>2019-01-05 20:03:46</td>\n",
       "      <td>799</td>\n",
       "    </tr>\n",
       "    <tr>\n",
       "      <th>2</th>\n",
       "      <td>C002179</td>\n",
       "      <td>2019-01-05 20:05:46</td>\n",
       "      <td>1748</td>\n",
       "    </tr>\n",
       "    <tr>\n",
       "      <th>3</th>\n",
       "      <td>C002180</td>\n",
       "      <td>2019-01-05 20:08:16</td>\n",
       "      <td>1022</td>\n",
       "    </tr>\n",
       "    <tr>\n",
       "      <th>4</th>\n",
       "      <td>C002181</td>\n",
       "      <td>2019-01-05 20:10:15</td>\n",
       "      <td>1903</td>\n",
       "    </tr>\n",
       "    <tr>\n",
       "      <th>...</th>\n",
       "      <td>...</td>\n",
       "      <td>...</td>\n",
       "      <td>...</td>\n",
       "    </tr>\n",
       "    <tr>\n",
       "      <th>894</th>\n",
       "      <td>D029709</td>\n",
       "      <td>2020-04-10 08:02:44</td>\n",
       "      <td>2442</td>\n",
       "    </tr>\n",
       "    <tr>\n",
       "      <th>895</th>\n",
       "      <td>D029710</td>\n",
       "      <td>2020-04-10 08:08:25</td>\n",
       "      <td>1444</td>\n",
       "    </tr>\n",
       "    <tr>\n",
       "      <th>896</th>\n",
       "      <td>D029711</td>\n",
       "      <td>2020-04-10 08:14:06</td>\n",
       "      <td>1190</td>\n",
       "    </tr>\n",
       "    <tr>\n",
       "      <th>897</th>\n",
       "      <td>D029712</td>\n",
       "      <td>2020-04-10 08:19:36</td>\n",
       "      <td>1364</td>\n",
       "    </tr>\n",
       "    <tr>\n",
       "      <th>898</th>\n",
       "      <td>D029713</td>\n",
       "      <td>2020-04-10 08:24:26</td>\n",
       "      <td>1605</td>\n",
       "    </tr>\n",
       "  </tbody>\n",
       "</table>\n",
       "<p>899 rows × 3 columns</p>\n",
       "</div>"
      ]
     },
     "metadata": {},
     "execution_count": 143
    }
   ],
   "metadata": {}
  },
  {
   "cell_type": "code",
   "execution_count": 144,
   "source": [
    "df['short_date'] = df.date.map(\n",
    "    lambda x: datetime(\n",
    "        x.year,\n",
    "        x.month,\n",
    "        x.day\n",
    "    ))"
   ],
   "outputs": [],
   "metadata": {}
  },
  {
   "cell_type": "code",
   "execution_count": 145,
   "source": [
    "df"
   ],
   "outputs": [
    {
     "output_type": "execute_result",
     "data": {
      "text/plain": [
       "    coil_num                date  DefectNumber short_date\n",
       "0    C002177 2019-01-05 20:01:16           724 2019-01-05\n",
       "1    C002178 2019-01-05 20:03:46           799 2019-01-05\n",
       "2    C002179 2019-01-05 20:05:46          1748 2019-01-05\n",
       "3    C002180 2019-01-05 20:08:16          1022 2019-01-05\n",
       "4    C002181 2019-01-05 20:10:15          1903 2019-01-05\n",
       "..       ...                 ...           ...        ...\n",
       "894  D029709 2020-04-10 08:02:44          2442 2020-04-10\n",
       "895  D029710 2020-04-10 08:08:25          1444 2020-04-10\n",
       "896  D029711 2020-04-10 08:14:06          1190 2020-04-10\n",
       "897  D029712 2020-04-10 08:19:36          1364 2020-04-10\n",
       "898  D029713 2020-04-10 08:24:26          1605 2020-04-10\n",
       "\n",
       "[899 rows x 4 columns]"
      ],
      "text/html": [
       "<div>\n",
       "<style scoped>\n",
       "    .dataframe tbody tr th:only-of-type {\n",
       "        vertical-align: middle;\n",
       "    }\n",
       "\n",
       "    .dataframe tbody tr th {\n",
       "        vertical-align: top;\n",
       "    }\n",
       "\n",
       "    .dataframe thead th {\n",
       "        text-align: right;\n",
       "    }\n",
       "</style>\n",
       "<table border=\"1\" class=\"dataframe\">\n",
       "  <thead>\n",
       "    <tr style=\"text-align: right;\">\n",
       "      <th></th>\n",
       "      <th>coil_num</th>\n",
       "      <th>date</th>\n",
       "      <th>DefectNumber</th>\n",
       "      <th>short_date</th>\n",
       "    </tr>\n",
       "  </thead>\n",
       "  <tbody>\n",
       "    <tr>\n",
       "      <th>0</th>\n",
       "      <td>C002177</td>\n",
       "      <td>2019-01-05 20:01:16</td>\n",
       "      <td>724</td>\n",
       "      <td>2019-01-05</td>\n",
       "    </tr>\n",
       "    <tr>\n",
       "      <th>1</th>\n",
       "      <td>C002178</td>\n",
       "      <td>2019-01-05 20:03:46</td>\n",
       "      <td>799</td>\n",
       "      <td>2019-01-05</td>\n",
       "    </tr>\n",
       "    <tr>\n",
       "      <th>2</th>\n",
       "      <td>C002179</td>\n",
       "      <td>2019-01-05 20:05:46</td>\n",
       "      <td>1748</td>\n",
       "      <td>2019-01-05</td>\n",
       "    </tr>\n",
       "    <tr>\n",
       "      <th>3</th>\n",
       "      <td>C002180</td>\n",
       "      <td>2019-01-05 20:08:16</td>\n",
       "      <td>1022</td>\n",
       "      <td>2019-01-05</td>\n",
       "    </tr>\n",
       "    <tr>\n",
       "      <th>4</th>\n",
       "      <td>C002181</td>\n",
       "      <td>2019-01-05 20:10:15</td>\n",
       "      <td>1903</td>\n",
       "      <td>2019-01-05</td>\n",
       "    </tr>\n",
       "    <tr>\n",
       "      <th>...</th>\n",
       "      <td>...</td>\n",
       "      <td>...</td>\n",
       "      <td>...</td>\n",
       "      <td>...</td>\n",
       "    </tr>\n",
       "    <tr>\n",
       "      <th>894</th>\n",
       "      <td>D029709</td>\n",
       "      <td>2020-04-10 08:02:44</td>\n",
       "      <td>2442</td>\n",
       "      <td>2020-04-10</td>\n",
       "    </tr>\n",
       "    <tr>\n",
       "      <th>895</th>\n",
       "      <td>D029710</td>\n",
       "      <td>2020-04-10 08:08:25</td>\n",
       "      <td>1444</td>\n",
       "      <td>2020-04-10</td>\n",
       "    </tr>\n",
       "    <tr>\n",
       "      <th>896</th>\n",
       "      <td>D029711</td>\n",
       "      <td>2020-04-10 08:14:06</td>\n",
       "      <td>1190</td>\n",
       "      <td>2020-04-10</td>\n",
       "    </tr>\n",
       "    <tr>\n",
       "      <th>897</th>\n",
       "      <td>D029712</td>\n",
       "      <td>2020-04-10 08:19:36</td>\n",
       "      <td>1364</td>\n",
       "      <td>2020-04-10</td>\n",
       "    </tr>\n",
       "    <tr>\n",
       "      <th>898</th>\n",
       "      <td>D029713</td>\n",
       "      <td>2020-04-10 08:24:26</td>\n",
       "      <td>1605</td>\n",
       "      <td>2020-04-10</td>\n",
       "    </tr>\n",
       "  </tbody>\n",
       "</table>\n",
       "<p>899 rows × 4 columns</p>\n",
       "</div>"
      ]
     },
     "metadata": {},
     "execution_count": 145
    }
   ],
   "metadata": {}
  },
  {
   "cell_type": "code",
   "execution_count": 146,
   "source": [
    "df['YearMonth'] = pd.to_datetime(df['short_date']).apply(lambda x: '{year}-{month}'.format(year=x.year, month=x.month))"
   ],
   "outputs": [],
   "metadata": {}
  },
  {
   "cell_type": "code",
   "execution_count": 147,
   "source": [
    "df.groupby(df.YearMonth).agg(np.mean)['DefectNumber']"
   ],
   "outputs": [
    {
     "output_type": "execute_result",
     "data": {
      "text/plain": [
       "YearMonth\n",
       "2019-1     1223.444444\n",
       "2019-12     858.473896\n",
       "2019-2      866.333333\n",
       "2019-3     1314.333333\n",
       "2019-8     1075.195652\n",
       "2019-9     1768.250000\n",
       "2020-1     1249.712821\n",
       "2020-2      883.684729\n",
       "2020-3     1670.407407\n",
       "2020-4     2038.367925\n",
       "Name: DefectNumber, dtype: float64"
      ]
     },
     "metadata": {},
     "execution_count": 147
    }
   ],
   "metadata": {}
  },
  {
   "cell_type": "code",
   "execution_count": 148,
   "source": [
    "to_Analyse = df.groupby(df.YearMonth).agg([np.mean,np.median,np.std,np.size])['DefectNumber']\n",
    "to_Analyse"
   ],
   "outputs": [
    {
     "output_type": "execute_result",
     "data": {
      "text/plain": [
       "                  mean  median          std  size\n",
       "YearMonth                                        \n",
       "2019-1     1223.444444  1199.0   403.279714     9\n",
       "2019-12     858.473896   471.0   892.094798   249\n",
       "2019-2      866.333333  1020.0   626.790502     3\n",
       "2019-3     1314.333333  1651.0   660.800525     3\n",
       "2019-8     1075.195652  1071.5   550.229351    46\n",
       "2019-9     1768.250000  2300.5  1185.828086     4\n",
       "2020-1     1249.712821   852.0  1050.128475   195\n",
       "2020-2      883.684729   873.0   679.087768   203\n",
       "2020-3     1670.407407  1732.0   592.917738    81\n",
       "2020-4     2038.367925  2097.5   476.460808   106"
      ],
      "text/html": [
       "<div>\n",
       "<style scoped>\n",
       "    .dataframe tbody tr th:only-of-type {\n",
       "        vertical-align: middle;\n",
       "    }\n",
       "\n",
       "    .dataframe tbody tr th {\n",
       "        vertical-align: top;\n",
       "    }\n",
       "\n",
       "    .dataframe thead th {\n",
       "        text-align: right;\n",
       "    }\n",
       "</style>\n",
       "<table border=\"1\" class=\"dataframe\">\n",
       "  <thead>\n",
       "    <tr style=\"text-align: right;\">\n",
       "      <th></th>\n",
       "      <th>mean</th>\n",
       "      <th>median</th>\n",
       "      <th>std</th>\n",
       "      <th>size</th>\n",
       "    </tr>\n",
       "    <tr>\n",
       "      <th>YearMonth</th>\n",
       "      <th></th>\n",
       "      <th></th>\n",
       "      <th></th>\n",
       "      <th></th>\n",
       "    </tr>\n",
       "  </thead>\n",
       "  <tbody>\n",
       "    <tr>\n",
       "      <th>2019-1</th>\n",
       "      <td>1223.444444</td>\n",
       "      <td>1199.0</td>\n",
       "      <td>403.279714</td>\n",
       "      <td>9</td>\n",
       "    </tr>\n",
       "    <tr>\n",
       "      <th>2019-12</th>\n",
       "      <td>858.473896</td>\n",
       "      <td>471.0</td>\n",
       "      <td>892.094798</td>\n",
       "      <td>249</td>\n",
       "    </tr>\n",
       "    <tr>\n",
       "      <th>2019-2</th>\n",
       "      <td>866.333333</td>\n",
       "      <td>1020.0</td>\n",
       "      <td>626.790502</td>\n",
       "      <td>3</td>\n",
       "    </tr>\n",
       "    <tr>\n",
       "      <th>2019-3</th>\n",
       "      <td>1314.333333</td>\n",
       "      <td>1651.0</td>\n",
       "      <td>660.800525</td>\n",
       "      <td>3</td>\n",
       "    </tr>\n",
       "    <tr>\n",
       "      <th>2019-8</th>\n",
       "      <td>1075.195652</td>\n",
       "      <td>1071.5</td>\n",
       "      <td>550.229351</td>\n",
       "      <td>46</td>\n",
       "    </tr>\n",
       "    <tr>\n",
       "      <th>2019-9</th>\n",
       "      <td>1768.250000</td>\n",
       "      <td>2300.5</td>\n",
       "      <td>1185.828086</td>\n",
       "      <td>4</td>\n",
       "    </tr>\n",
       "    <tr>\n",
       "      <th>2020-1</th>\n",
       "      <td>1249.712821</td>\n",
       "      <td>852.0</td>\n",
       "      <td>1050.128475</td>\n",
       "      <td>195</td>\n",
       "    </tr>\n",
       "    <tr>\n",
       "      <th>2020-2</th>\n",
       "      <td>883.684729</td>\n",
       "      <td>873.0</td>\n",
       "      <td>679.087768</td>\n",
       "      <td>203</td>\n",
       "    </tr>\n",
       "    <tr>\n",
       "      <th>2020-3</th>\n",
       "      <td>1670.407407</td>\n",
       "      <td>1732.0</td>\n",
       "      <td>592.917738</td>\n",
       "      <td>81</td>\n",
       "    </tr>\n",
       "    <tr>\n",
       "      <th>2020-4</th>\n",
       "      <td>2038.367925</td>\n",
       "      <td>2097.5</td>\n",
       "      <td>476.460808</td>\n",
       "      <td>106</td>\n",
       "    </tr>\n",
       "  </tbody>\n",
       "</table>\n",
       "</div>"
      ]
     },
     "metadata": {},
     "execution_count": 148
    }
   ],
   "metadata": {}
  },
  {
   "cell_type": "code",
   "execution_count": 150,
   "source": [
    "to_Analyse = to_Analyse.reset_index()"
   ],
   "outputs": [],
   "metadata": {}
  },
  {
   "cell_type": "code",
   "execution_count": 152,
   "source": [
    "to_Analyse['NewIndex'] = to_Analyse['YearMonth'].map(\n",
    "    lambda x: \n",
    "    int('{}{}'.format(\n",
    "        x[2:4], \\\n",
    "        x[x.find('-')+1:] if(len(x[x.find('-')+1:])>1) else '0' + x[x.find('-')+1:]\n",
    "        )\n",
    "    )\n",
    ")"
   ],
   "outputs": [],
   "metadata": {}
  },
  {
   "cell_type": "code",
   "execution_count": 153,
   "source": [
    "to_Analyse.sort_values(by='NewIndex', ascending=True)"
   ],
   "outputs": [
    {
     "output_type": "execute_result",
     "data": {
      "text/plain": [
       "  YearMonth         mean  median          std  size  NewIndex\n",
       "0    2019-1  1223.444444  1199.0   403.279714     9      1901\n",
       "2    2019-2   866.333333  1020.0   626.790502     3      1902\n",
       "3    2019-3  1314.333333  1651.0   660.800525     3      1903\n",
       "4    2019-8  1075.195652  1071.5   550.229351    46      1908\n",
       "5    2019-9  1768.250000  2300.5  1185.828086     4      1909\n",
       "1   2019-12   858.473896   471.0   892.094798   249      1912\n",
       "6    2020-1  1249.712821   852.0  1050.128475   195      2001\n",
       "7    2020-2   883.684729   873.0   679.087768   203      2002\n",
       "8    2020-3  1670.407407  1732.0   592.917738    81      2003\n",
       "9    2020-4  2038.367925  2097.5   476.460808   106      2004"
      ],
      "text/html": [
       "<div>\n",
       "<style scoped>\n",
       "    .dataframe tbody tr th:only-of-type {\n",
       "        vertical-align: middle;\n",
       "    }\n",
       "\n",
       "    .dataframe tbody tr th {\n",
       "        vertical-align: top;\n",
       "    }\n",
       "\n",
       "    .dataframe thead th {\n",
       "        text-align: right;\n",
       "    }\n",
       "</style>\n",
       "<table border=\"1\" class=\"dataframe\">\n",
       "  <thead>\n",
       "    <tr style=\"text-align: right;\">\n",
       "      <th></th>\n",
       "      <th>YearMonth</th>\n",
       "      <th>mean</th>\n",
       "      <th>median</th>\n",
       "      <th>std</th>\n",
       "      <th>size</th>\n",
       "      <th>NewIndex</th>\n",
       "    </tr>\n",
       "  </thead>\n",
       "  <tbody>\n",
       "    <tr>\n",
       "      <th>0</th>\n",
       "      <td>2019-1</td>\n",
       "      <td>1223.444444</td>\n",
       "      <td>1199.0</td>\n",
       "      <td>403.279714</td>\n",
       "      <td>9</td>\n",
       "      <td>1901</td>\n",
       "    </tr>\n",
       "    <tr>\n",
       "      <th>2</th>\n",
       "      <td>2019-2</td>\n",
       "      <td>866.333333</td>\n",
       "      <td>1020.0</td>\n",
       "      <td>626.790502</td>\n",
       "      <td>3</td>\n",
       "      <td>1902</td>\n",
       "    </tr>\n",
       "    <tr>\n",
       "      <th>3</th>\n",
       "      <td>2019-3</td>\n",
       "      <td>1314.333333</td>\n",
       "      <td>1651.0</td>\n",
       "      <td>660.800525</td>\n",
       "      <td>3</td>\n",
       "      <td>1903</td>\n",
       "    </tr>\n",
       "    <tr>\n",
       "      <th>4</th>\n",
       "      <td>2019-8</td>\n",
       "      <td>1075.195652</td>\n",
       "      <td>1071.5</td>\n",
       "      <td>550.229351</td>\n",
       "      <td>46</td>\n",
       "      <td>1908</td>\n",
       "    </tr>\n",
       "    <tr>\n",
       "      <th>5</th>\n",
       "      <td>2019-9</td>\n",
       "      <td>1768.250000</td>\n",
       "      <td>2300.5</td>\n",
       "      <td>1185.828086</td>\n",
       "      <td>4</td>\n",
       "      <td>1909</td>\n",
       "    </tr>\n",
       "    <tr>\n",
       "      <th>1</th>\n",
       "      <td>2019-12</td>\n",
       "      <td>858.473896</td>\n",
       "      <td>471.0</td>\n",
       "      <td>892.094798</td>\n",
       "      <td>249</td>\n",
       "      <td>1912</td>\n",
       "    </tr>\n",
       "    <tr>\n",
       "      <th>6</th>\n",
       "      <td>2020-1</td>\n",
       "      <td>1249.712821</td>\n",
       "      <td>852.0</td>\n",
       "      <td>1050.128475</td>\n",
       "      <td>195</td>\n",
       "      <td>2001</td>\n",
       "    </tr>\n",
       "    <tr>\n",
       "      <th>7</th>\n",
       "      <td>2020-2</td>\n",
       "      <td>883.684729</td>\n",
       "      <td>873.0</td>\n",
       "      <td>679.087768</td>\n",
       "      <td>203</td>\n",
       "      <td>2002</td>\n",
       "    </tr>\n",
       "    <tr>\n",
       "      <th>8</th>\n",
       "      <td>2020-3</td>\n",
       "      <td>1670.407407</td>\n",
       "      <td>1732.0</td>\n",
       "      <td>592.917738</td>\n",
       "      <td>81</td>\n",
       "      <td>2003</td>\n",
       "    </tr>\n",
       "    <tr>\n",
       "      <th>9</th>\n",
       "      <td>2020-4</td>\n",
       "      <td>2038.367925</td>\n",
       "      <td>2097.5</td>\n",
       "      <td>476.460808</td>\n",
       "      <td>106</td>\n",
       "      <td>2004</td>\n",
       "    </tr>\n",
       "  </tbody>\n",
       "</table>\n",
       "</div>"
      ]
     },
     "metadata": {},
     "execution_count": 153
    }
   ],
   "metadata": {}
  },
  {
   "cell_type": "code",
   "execution_count": 154,
   "source": [
    "to_Analyse = to_Analyse.set_index('YearMonth')"
   ],
   "outputs": [],
   "metadata": {}
  },
  {
   "cell_type": "code",
   "execution_count": 155,
   "source": [
    "def group_and_barplot(df, feat_gropby='YearMonth', feat='DefectNumber', agg = [np.mean, np.median, np.size], sort_by='short_date', subplot=True):\n",
    "  (\n",
    "    df\n",
    "      .groupby(feat_gropby)[feat]\n",
    "      .agg(agg)\n",
    "      #.sort_values(by='YearMonth', ascending=False)\n",
    "      #.head(top)\n",
    "      .plot(kind='bar', figsize=(15,8), subplots=subplot)\n",
    "      \n",
    ");"
   ],
   "outputs": [],
   "metadata": {}
  },
  {
   "cell_type": "code",
   "execution_count": 162,
   "source": [
    "to_Analyse = to_Analyse.rename(columns={\"mean\": \"Average\", \"std\": \"Standard Deviation\",\"size\":\"Ammount\"})"
   ],
   "outputs": [],
   "metadata": {}
  },
  {
   "cell_type": "code",
   "execution_count": 163,
   "source": [
    "to_Analyse\\\n",
    "    .sort_values(by='NewIndex', ascending=True)\\\n",
    "    [['Average','Standard Deviation','Ammount']]\\\n",
    "    .plot(kind='bar', figsize=(15,13), subplots=True);"
   ],
   "outputs": [
    {
     "output_type": "display_data",
     "data": {
      "text/plain": [
       "<Figure size 1080x936 with 3 Axes>"
      ],
      "image/png": "[encoded data removed]"
     },
     "metadata": {
      "needs_background": "light"
     }
    }
   ],
   "metadata": {}
  },
  {
   "cell_type": "code",
   "execution_count": 158,
   "source": [
    "group_and_barplot(df)"
   ],
   "outputs": [
    {
     "output_type": "display_data",
     "data": {
      "text/plain": [
       "<Figure size 1080x576 with 3 Axes>"
      ],
      "image/png": "[encoded data removed]"
     },
     "metadata": {
      "needs_background": "light"
     }
    }
   ],
   "metadata": {}
  },
  {
   "cell_type": "code",
   "execution_count": null,
   "source": [],
   "outputs": [],
   "metadata": {}
  }
 ],
 "metadata": {
  "kernelspec": {
   "display_name": "Python 3",
   "language": "python",
   "name": "python3"
  },
  "language_info": {
   "codemirror_mode": {
    "name": "ipython",
    "version": 3
   },
   "file_extension": ".py",
   "mimetype": "text/x-python",
   "name": "python",
   "nbconvert_exporter": "python",
   "pygments_lexer": "ipython3",
   "version": "3.7.3"
  }
 },
 "nbformat": 4,
 "nbformat_minor": 2
}